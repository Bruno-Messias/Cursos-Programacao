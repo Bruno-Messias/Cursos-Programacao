{
 "cells": [
  {
   "cell_type": "markdown",
   "metadata": {},
   "source": [
    "# Understanding Classification and Logistic Regression with Python\n",
    "\n",
    "## Introduction\n",
    "\n",
    "This notebook contains a short introduction to the basic principles of classification and logistic regression. A simple Python simulation is used to illustrate these principles. Specifically, the following steps are performed:\n",
    "\n",
    "- A data set is created. The label has binary `TRUE` and `FALSE` labels. Values for two features are generated from two bivariate Normal distribion, one for each label class.\n",
    "- A plot is made of the data set, using color and shape to show the two label classes. \n",
    "- A plot of a logistic function is computed. \n",
    "- For each of three data sets a logistic regression model is computed, scored and a plot created using color to show class and shape to show correct and incorrect scoring."
   ]
  },
  {
   "cell_type": "markdown",
   "metadata": {},
   "source": [
    "## Create the data set\n",
    "\n",
    "The code in the cell below computes the two class data set. The feature values for each label level are computed from a bivariate Normal distribution. Run this code and  examine the first few rows of the data frame."
   ]
  },
  {
   "cell_type": "code",
   "execution_count": 1,
   "metadata": {},
   "outputs": [
    {
     "data": {
      "text/html": [
       "<div>\n",
       "<style scoped>\n",
       "    .dataframe tbody tr th:only-of-type {\n",
       "        vertical-align: middle;\n",
       "    }\n",
       "\n",
       "    .dataframe tbody tr th {\n",
       "        vertical-align: top;\n",
       "    }\n",
       "\n",
       "    .dataframe thead th {\n",
       "        text-align: right;\n",
       "    }\n",
       "</style>\n",
       "<table border=\"1\" class=\"dataframe\">\n",
       "  <thead>\n",
       "    <tr style=\"text-align: right;\">\n",
       "      <th></th>\n",
       "      <th>x</th>\n",
       "      <th>y</th>\n",
       "      <th>z</th>\n",
       "    </tr>\n",
       "  </thead>\n",
       "  <tbody>\n",
       "    <tr>\n",
       "      <th>0</th>\n",
       "      <td>1.604872</td>\n",
       "      <td>-0.318734</td>\n",
       "      <td>1</td>\n",
       "    </tr>\n",
       "    <tr>\n",
       "      <th>1</th>\n",
       "      <td>1.634569</td>\n",
       "      <td>2.306710</td>\n",
       "      <td>1</td>\n",
       "    </tr>\n",
       "    <tr>\n",
       "      <th>2</th>\n",
       "      <td>0.363235</td>\n",
       "      <td>0.333452</td>\n",
       "      <td>1</td>\n",
       "    </tr>\n",
       "    <tr>\n",
       "      <th>3</th>\n",
       "      <td>0.329482</td>\n",
       "      <td>1.108368</td>\n",
       "      <td>1</td>\n",
       "    </tr>\n",
       "    <tr>\n",
       "      <th>4</th>\n",
       "      <td>0.866296</td>\n",
       "      <td>2.065378</td>\n",
       "      <td>1</td>\n",
       "    </tr>\n",
       "  </tbody>\n",
       "</table>\n",
       "</div>"
      ],
      "text/plain": [
       "          x         y  z\n",
       "0  1.604872 -0.318734  1\n",
       "1  1.634569  2.306710  1\n",
       "2  0.363235  0.333452  1\n",
       "3  0.329482  1.108368  1\n",
       "4  0.866296  2.065378  1"
      ]
     },
     "execution_count": 1,
     "metadata": {},
     "output_type": "execute_result"
    }
   ],
   "source": [
    "def sim_log_data(x1, y1, n1, sd1, x2, y2, n2, sd2):\n",
    "    import pandas as pd\n",
    "    import numpy.random as nr\n",
    "    \n",
    "    wx1 = nr.normal(loc = x1, scale = sd1, size = n1)\n",
    "    wy1 = nr.normal(loc = y1, scale = sd1, size = n1)\n",
    "    z1 = [1]*n1\n",
    "    wx2 = nr.normal(loc = x2, scale = sd2, size = n2)\n",
    "    wy2 = nr.normal(loc = y2, scale = sd2, size = n2)\n",
    "    z2 = [0]*n2\n",
    "    \n",
    "    df1 = pd.DataFrame({'x': wx1, 'y': wy1, 'z': z1})\n",
    "    df2 = pd.DataFrame({'x': wx2, 'y': wy2, 'z': z2}) \n",
    "    return pd.concat([df1, df2], axis = 0, ignore_index = True)   \n",
    "sim_data = sim_log_data(1, 1, 50, 1, -1, -1, 50, 1)\n",
    "sim_data.head()"
   ]
  },
  {
   "cell_type": "markdown",
   "metadata": {},
   "source": [
    "## Plot the data set\n",
    "\n",
    "The code in the cell below plots the data set using color to show the two classes of the labels. Execute this code and examine the results. Notice that the posion of the points from each class overlap with each other. "
   ]
  },
  {
   "cell_type": "code",
   "execution_count": 6,
   "metadata": {},
   "outputs": [
    {
     "data": {
      "text/plain": [
       "'Done'"
      ]
     },
     "execution_count": 6,
     "metadata": {},
     "output_type": "execute_result"
    },
    {
     "data": {
      "image/png": "[encoded data removed]",
      "text/plain": [
       "<Figure size 360x360 with 1 Axes>"
      ]
     },
     "metadata": {
      "needs_background": "light"
     },
     "output_type": "display_data"
    }
   ],
   "source": [
    "%matplotlib inline\n",
    "def plot_class(df):\n",
    "    import matplotlib.pyplot as plt\n",
    "    fig = plt.figure(figsize=(5, 5))\n",
    "    fig.clf()\n",
    "    ax = fig.gca()\n",
    "    df[df.z == 1].plot(kind = 'scatter', x = 'x', y = 'y', ax = ax, \n",
    "                       alpha = 1.0, color = 'Red', marker = 'x', s = 40) \n",
    "    df[df.z == 0].plot(kind = 'scatter', x = 'x', y = 'y', ax = ax, \n",
    "                       alpha = 1.0, color = 'DarkBlue', marker = 'o', s = 40) \n",
    "    ax.set_xlabel('X')\n",
    "    ax.set_ylabel('Y')\n",
    "    ax.set_title('Classes vs X and Y')\n",
    "    return 'Done'\n",
    "plot_class(sim_data)"
   ]
  },
  {
   "cell_type": "markdown",
   "metadata": {},
   "source": [
    "## Plot the logistic function\n",
    "\n",
    "Logistic regression computes a binary {0,1} score using a logistic function. A value of the logistic function above the cutoff (typically 0.5) are scored as a 1 or true, and values less than the cutoff are scored as a 0 or false. Execute the code and examine the resulting logistic function."
   ]
  },
  {
   "cell_type": "code",
   "execution_count": 3,
   "metadata": {},
   "outputs": [
    {
     "data": {
      "text/plain": [
       "'done'"
      ]
     },
     "execution_count": 3,
     "metadata": {},
     "output_type": "execute_result"
    },
    {
     "data": {
      "image/png": "[encoded data removed]",
      "text/plain": [
       "<Figure size 360x288 with 1 Axes>"
      ]
     },
     "metadata": {
      "needs_background": "light"
     },
     "output_type": "display_data"
    }
   ],
   "source": [
    "def plot_logistic(upper = 6, lower = -6, steps = 100):\n",
    "    import matplotlib.pyplot as plt\n",
    "    import pandas as pd\n",
    "    import math as m\n",
    "    step = float(upper - lower)  / float(steps)\n",
    "    x = [lower + x * step for x in range(101)]\n",
    "    y = [m.exp(z)/(1 + m.exp(z)) for z in x]\n",
    "    \n",
    "    fig = plt.figure(figsize=(5, 4))\n",
    "    fig.clf()\n",
    "    ax = fig.gca()\n",
    "    ax.plot(x, y, color = 'r')\n",
    "    ax.axvline(0, 0.0, 1.0)\n",
    "    ax.axhline(0.5, lower, upper)\n",
    "    ax.set_xlabel('X')\n",
    "    ax.set_ylabel('Probabiltiy of positive response')\n",
    "    ax.set_title('Logistic function for two-class classification')\n",
    "    return 'done'\n",
    "\n",
    "plot_logistic()"
   ]
  },
  {
   "cell_type": "markdown",
   "metadata": {},
   "source": [
    "## Compute and score a logistic regression model\n",
    "\n",
    "There is a considerable anount of code in the cell below. \n",
    "\n",
    "The fist function uses scikit-learn to compute and scores a logsitic regression model. Notie that the features and the label must be converted to a numpy array which is required for scikit-learn. \n",
    "\n",
    "The second function computes the evaluation of the logistic regression model in the following steps:\n",
    "- Compute the elements of theh confusion matrix.\n",
    "- Plot the correctly and incorrectly scored cases, using shape and color to identify class and classification correctness.\n",
    "- Commonly used performance statistics are computed.\n",
    "\n",
    "Execute this code and examine the results. Notice that most of the cases have been correctly classified. Classification errors appear along a boundary between those two classes. "
   ]
  },
  {
   "cell_type": "code",
   "execution_count": 16,
   "metadata": {},
   "outputs": [
    {
     "name": "stdout",
     "output_type": "stream",
     "text": [
      "          x         y  z  predicted\n",
      "0  1.604872 -0.318734  1          1\n",
      "1  1.634569  2.306710  1          1\n",
      "2  0.363235  0.333452  1          1\n",
      "3  0.329482  1.108368  1          1\n",
      "4  0.866296  2.065378  1          1\n",
      "         Positive  Negative\n",
      "TrueNeg         2        48\n",
      "TruePos        48         2\n",
      "accracy = 0.96\n",
      "precision = 0.96\n",
      "recall = 0.96\n"
     ]
    },
    {
     "data": {
      "text/plain": [
       "'Done'"
      ]
     },
     "execution_count": 16,
     "metadata": {},
     "output_type": "execute_result"
    },
    {
     "data": {
      "image/png": "[encoded data removed]",
      "text/plain": [
       "<Figure size 360x360 with 1 Axes>"
      ]
     },
     "metadata": {
      "needs_background": "light"
     },
     "output_type": "display_data"
    }
   ],
   "source": [
    "def logistic_mod(df, logProb = 1.0):\n",
    "    from sklearn import linear_model\n",
    "\n",
    "    ## Prepare data for model\n",
    "    nrow = df.shape[0]\n",
    "    X = df[['x', 'y']].values.reshape(nrow,2)\n",
    "    Y = df.z.values.ravel() #reshape(nrow,1)\n",
    "    ## Compute the logistic regression model\n",
    "    lg = linear_model.LogisticRegression()\n",
    "    logr = lg.fit(X, Y)\n",
    "    ## Compute the y values\n",
    "    temp = logr.predict_log_proba(X)  \n",
    "    df['predicted']  = [1 if (logProb > p[1]/p[0]) else 0 for p in temp]\n",
    "    return df\n",
    "\n",
    "def eval_logistic(df):\n",
    "    import matplotlib.pyplot as plt\n",
    "    import pandas as pd\n",
    "\n",
    "    truePos = df[((df['predicted'] == 1) & (df['z'] == df['predicted']))]  \n",
    "    falsePos = df[((df['predicted'] == 1) & (df['z'] != df['predicted']))] \n",
    "    trueNeg = df[((df['predicted'] == 0) & (df['z'] == df['predicted']))]  \n",
    "    falseNeg = df[((df['predicted'] == 0) & (df['z'] != df['predicted']))]\n",
    "\n",
    "    fig = plt.figure(figsize=(5, 5))\n",
    "    fig.clf()\n",
    "    ax = fig.gca()\n",
    "    truePos.plot(kind = 'scatter', x = 'x', y = 'y', ax = ax, \n",
    "                       alpha = 1.0, color = 'DarkBlue', marker = '+', s = 80) \n",
    "    falsePos.plot(kind = 'scatter', x = 'x', y = 'y', ax = ax, \n",
    "                       alpha = 1.0, color = 'Red', marker = 'o', s = 40)  \n",
    "    trueNeg.plot(kind = 'scatter', x = 'x', y = 'y', ax = ax, \n",
    "                       alpha = 1.0, color = 'DarkBlue', marker = 'o', s = 40)  \n",
    "    falseNeg.plot(kind = 'scatter', x = 'x', y = 'y', ax = ax, \n",
    "                       alpha = 1.0, color = 'Red', marker = '+', s = 80) \n",
    "    ax.set_xlabel('X')\n",
    "    ax.set_ylabel('Y')\n",
    "    ax.set_title('Classes vs X and Y')\n",
    "    \n",
    "    TP = truePos.shape[0]\n",
    "    FP = falsePos.shape[0]\n",
    "    TN = trueNeg.shape[0]\n",
    "    FN = falseNeg.shape[0]\n",
    "       \n",
    "    confusion = pd.DataFrame({'Positive': [FP, TP],\n",
    "                              'Negative': [TN, FN]},\n",
    "                               index = ['TrueNeg', 'TruePos'])\n",
    "    accuracy = float(TP + TN)/float(TP + TN + FP + FN)      \n",
    "    precision = float(TP)/float(TP + FP)     \n",
    "    recall =  float(TP)/float(TP + FN)      \n",
    "    \n",
    "    print(confusion)\n",
    "    print('accracy = ' + str(accuracy))\n",
    "    print('precision = ' + str(precision))\n",
    "    print('recall = ' + str(recall))\n",
    "    \n",
    "    return 'Done' \n",
    "\n",
    "mod = logistic_mod(sim_data)\n",
    "eval_logistic(mod)"
   ]
  },
  {
   "cell_type": "markdown",
   "metadata": {},
   "source": [
    "## Moving the decision boundary\n",
    "\n",
    "The example above uses a cutoff at the midpoint of the logistic function. However, you can change the trade-off between correctly classifying the positive cases and correctly classifing the negative cases. The code in the cell below computes and scores a logistic regression model for three different cutoff points. \n",
    "\n",
    "Run the code in the cell and carefully compare the results for the three cases. Notice, that as the logistic cutoff changes the decision boundary moves on the plot, with progressively more positive cases are correctly classified. In addition, accuracy and precision decrease and recall increases. "
   ]
  },
  {
   "cell_type": "code",
   "execution_count": 18,
   "metadata": {},
   "outputs": [
    {
     "name": "stdout",
     "output_type": "stream",
     "text": [
      "          x         y  z  predicted\n",
      "0  0.200080  0.761909  1          1\n",
      "1  2.212178 -0.081328  1          1\n",
      "2  2.854678  0.520354  1          1\n",
      "3  0.788052 -0.607234  1          1\n",
      "4  0.268774  1.738813  1          1\n",
      "         Positive  Negative\n",
      "TrueNeg        13        37\n",
      "TruePos        38        12\n",
      "accracy = 0.75\n",
      "precision = 0.7450980392156863\n",
      "recall = 0.76\n",
      "          x         y  z  predicted\n",
      "0  0.200080  0.761909  1          1\n",
      "1  2.212178 -0.081328  1          1\n",
      "2  2.854678  0.520354  1          1\n",
      "3  0.788052 -0.607234  1          1\n",
      "4  0.268774  1.738813  1          1\n",
      "         Positive  Negative\n",
      "TrueNeg        16        34\n",
      "TruePos        43         7\n",
      "accracy = 0.77\n",
      "precision = 0.7288135593220338\n",
      "recall = 0.86\n",
      "          x         y  z  predicted\n",
      "0  0.200080  0.761909  1          1\n",
      "1  2.212178 -0.081328  1          1\n",
      "2  2.854678  0.520354  1          1\n",
      "3  0.788052 -0.607234  1          1\n",
      "4  0.268774  1.738813  1          1\n",
      "         Positive  Negative\n",
      "TrueNeg        28        22\n",
      "TruePos        47         3\n",
      "accracy = 0.69\n",
      "precision = 0.6266666666666667\n",
      "recall = 0.94\n"
     ]
    },
    {
     "data": {
      "text/plain": [
       "'Done'"
      ]
     },
     "execution_count": 18,
     "metadata": {},
     "output_type": "execute_result"
    },
    {
     "data": {
      "image/png": "[encoded data removed]",
      "text/plain": [
       "<Figure size 360x360 with 1 Axes>"
      ]
     },
     "metadata": {
      "needs_background": "light"
     },
     "output_type": "display_data"
    },
    {
     "data": {
      "image/png": "[encoded data removed]",
      "text/plain": [
       "<Figure size 360x360 with 1 Axes>"
      ]
     },
     "metadata": {
      "needs_background": "light"
     },
     "output_type": "display_data"
    },
    {
     "data": {
      "image/png": "[encoded data removed]",
      "text/plain": [
       "<Figure size 360x360 with 1 Axes>"
      ]
     },
     "metadata": {
      "needs_background": "light"
     },
     "output_type": "display_data"
    }
   ],
   "source": [
    "def logistic_demo_prob():\n",
    "    logt = sim_log_data(0.5, 0.5, 50, 1, -0.5, -0.5, 50, 1)\n",
    "    \n",
    "    probs = [1, 2, 4]\n",
    "    for p in probs:\n",
    "        logMod = logistic_mod(logt, p)\n",
    "        eval_logistic(logMod)\n",
    "    return 'Done'\n",
    "logistic_demo_prob()"
   ]
  },
  {
   "cell_type": "code",
   "execution_count": null,
   "metadata": {
    "collapsed": true
   },
   "outputs": [],
   "source": []
  }
 ],
 "metadata": {
  "anaconda-cloud": {},
  "kernelspec": {
   "display_name": "Python 3",
   "language": "python",
   "name": "python3"
  },
  "language_info": {
   "codemirror_mode": {
    "name": "ipython",
    "version": 3
   },
   "file_extension": ".py",
   "mimetype": "text/x-python",
   "name": "python",
   "nbconvert_exporter": "python",
   "pygments_lexer": "ipython3",
   "version": "3.7.7"
  }
 },
 "nbformat": 4,
 "nbformat_minor": 1
}
